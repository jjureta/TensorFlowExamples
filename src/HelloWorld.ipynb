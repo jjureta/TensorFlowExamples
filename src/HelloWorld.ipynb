{
 "cells": [
  {
   "cell_type": "markdown",
   "metadata": {},
   "source": [
    "Based on: https://github.com/lmoroney/dlaicourse/blob/master/Course%201%20-%20Part%202%20-%20Lesson%202%20-%20Notebook.ipynb"
   ]
  },
  {
   "cell_type": "code",
   "execution_count": 43,
   "metadata": {},
   "outputs": [],
   "source": [
    "import tensorflow as tf\n",
    "import datetime\n",
    "import numpy as np\n",
    "from tensorflow import keras\n",
    "import matplotlib.pyplot as plt"
   ]
  },
  {
   "cell_type": "code",
   "execution_count": 44,
   "metadata": {},
   "outputs": [
    {
     "name": "stdout",
     "output_type": "stream",
     "text": [
      "The tensorboard extension is already loaded. To reload it, use:\n",
      "  %reload_ext tensorboard\n"
     ]
    }
   ],
   "source": [
    "# Load the TensorBoard notebook extension\n",
    "%load_ext tensorboard"
   ]
  },
  {
   "cell_type": "code",
   "execution_count": 45,
   "metadata": {},
   "outputs": [
    {
     "name": "stdout",
     "output_type": "stream",
     "text": [
      "2.14.0\n"
     ]
    }
   ],
   "source": [
    "# print the tensor flow version\n",
    "print(tf.__version__)"
   ]
  },
  {
   "cell_type": "code",
   "execution_count": 46,
   "metadata": {},
   "outputs": [],
   "source": [
    "tensorboard_events_path = '../logs/fit/'"
   ]
  },
  {
   "cell_type": "code",
   "execution_count": 47,
   "metadata": {},
   "outputs": [],
   "source": [
    "def hw_function(x):\n",
    "    y = (2 * x) - 1;\n",
    "    return y;"
   ]
  },
  {
   "cell_type": "code",
   "execution_count": 48,
   "metadata": {},
   "outputs": [],
   "source": [
    "model = tf.keras.Sequential([keras.layers.Dense(units=1, input_shape=[1])])"
   ]
  },
  {
   "cell_type": "code",
   "execution_count": 49,
   "metadata": {},
   "outputs": [],
   "source": [
    "model.compile(optimizer='sgd', loss='mean_squared_error')"
   ]
  },
  {
   "cell_type": "code",
   "execution_count": 50,
   "metadata": {},
   "outputs": [],
   "source": [
    "#xs = np.array([-2.0, -1.0,  0.0, 1.0, 2.0, 3.0, 4.0], dtype=float)\n",
    "xs = np.sort(np.asfarray(np.random.randint(low=-1000, high=1000, size=2000, dtype='l')))\n",
    "ys = hw_function(xs)"
   ]
  },
  {
   "cell_type": "code",
   "execution_count": 51,
   "metadata": {},
   "outputs": [],
   "source": [
    "log_dir = tensorboard_events_path + datetime.datetime.now().strftime(\"%Y%m%d-%H%M%S\")\n",
    "tensorboard_callback = tf.keras.callbacks.TensorBoard(log_dir=log_dir, histogram_freq=1)"
   ]
  },
  {
   "cell_type": "code",
   "execution_count": 52,
   "metadata": {},
   "outputs": [
    {
     "name": "stdout",
     "output_type": "stream",
     "text": [
      "Epoch 1/500\n",
      "63/63 [==============================] - 1s 4ms/step - loss: nan\n",
      "Epoch 2/500\n",
      "63/63 [==============================] - 0s 5ms/step - loss: nan\n",
      "Epoch 3/500\n",
      "63/63 [==============================] - 0s 3ms/step - loss: nan\n",
      "Epoch 4/500\n",
      "63/63 [==============================] - 0s 3ms/step - loss: nan\n",
      "Epoch 5/500\n",
      "63/63 [==============================] - 0s 3ms/step - loss: nan\n",
      "Epoch 6/500\n",
      "63/63 [==============================] - 0s 3ms/step - loss: nan\n",
      "Epoch 7/500\n",
      "63/63 [==============================] - 0s 5ms/step - loss: nan\n",
      "Epoch 8/500\n",
      "63/63 [==============================] - 0s 3ms/step - loss: nan\n",
      "Epoch 9/500\n",
      "63/63 [==============================] - 0s 4ms/step - loss: nan\n",
      "Epoch 10/500\n",
      "63/63 [==============================] - 0s 4ms/step - loss: nan\n",
      "Epoch 11/500\n",
      "63/63 [==============================] - 0s 4ms/step - loss: nan\n",
      "Epoch 12/500\n",
      "63/63 [==============================] - 0s 4ms/step - loss: nan\n",
      "Epoch 13/500\n",
      "63/63 [==============================] - 0s 3ms/step - loss: nan\n",
      "Epoch 14/500\n",
      "63/63 [==============================] - 0s 3ms/step - loss: nan\n",
      "Epoch 15/500\n",
      "63/63 [==============================] - 0s 4ms/step - loss: nan\n",
      "Epoch 16/500\n",
      "63/63 [==============================] - 0s 4ms/step - loss: nan\n",
      "Epoch 17/500\n",
      "63/63 [==============================] - 0s 4ms/step - loss: nan\n",
      "Epoch 18/500\n",
      "63/63 [==============================] - 0s 4ms/step - loss: nan\n",
      "Epoch 19/500\n",
      "63/63 [==============================] - 0s 4ms/step - loss: nan\n",
      "Epoch 20/500\n",
      "63/63 [==============================] - 0s 4ms/step - loss: nan\n",
      "Epoch 21/500\n",
      "63/63 [==============================] - 0s 4ms/step - loss: nan\n",
      "Epoch 22/500\n",
      "63/63 [==============================] - 0s 4ms/step - loss: nan\n",
      "Epoch 23/500\n",
      "63/63 [==============================] - 0s 4ms/step - loss: nan\n",
      "Epoch 24/500\n",
      "63/63 [==============================] - 0s 3ms/step - loss: nan\n",
      "Epoch 25/500\n",
      "63/63 [==============================] - 0s 3ms/step - loss: nan\n",
      "Epoch 26/500\n",
      "63/63 [==============================] - 0s 3ms/step - loss: nan\n",
      "Epoch 27/500\n",
      "63/63 [==============================] - 0s 3ms/step - loss: nan\n",
      "Epoch 28/500\n",
      "63/63 [==============================] - 0s 4ms/step - loss: nan\n",
      "Epoch 29/500\n",
      "63/63 [==============================] - 0s 3ms/step - loss: nan\n",
      "Epoch 30/500\n",
      "63/63 [==============================] - 0s 4ms/step - loss: nan\n",
      "Epoch 31/500\n",
      "63/63 [==============================] - 0s 3ms/step - loss: nan\n",
      "Epoch 32/500\n",
      "63/63 [==============================] - 0s 3ms/step - loss: nan\n",
      "Epoch 33/500\n",
      "63/63 [==============================] - 0s 3ms/step - loss: nan\n",
      "Epoch 34/500\n",
      "63/63 [==============================] - 0s 3ms/step - loss: nan\n",
      "Epoch 35/500\n",
      "63/63 [==============================] - 0s 4ms/step - loss: nan\n",
      "Epoch 36/500\n",
      "63/63 [==============================] - 0s 4ms/step - loss: nan\n",
      "Epoch 37/500\n",
      "63/63 [==============================] - 0s 4ms/step - loss: nan\n",
      "Epoch 38/500\n",
      "63/63 [==============================] - 0s 5ms/step - loss: nan\n",
      "Epoch 39/500\n",
      "63/63 [==============================] - 0s 4ms/step - loss: nan\n",
      "Epoch 40/500\n",
      "63/63 [==============================] - 0s 4ms/step - loss: nan\n",
      "Epoch 41/500\n",
      "63/63 [==============================] - 0s 4ms/step - loss: nan\n",
      "Epoch 42/500\n",
      "63/63 [==============================] - 0s 4ms/step - loss: nan\n",
      "Epoch 43/500\n",
      "63/63 [==============================] - 0s 3ms/step - loss: nan\n",
      "Epoch 44/500\n",
      "63/63 [==============================] - 0s 3ms/step - loss: nan\n",
      "Epoch 45/500\n",
      "63/63 [==============================] - 0s 3ms/step - loss: nan\n",
      "Epoch 46/500\n",
      "63/63 [==============================] - 0s 4ms/step - loss: nan\n",
      "Epoch 47/500\n",
      "63/63 [==============================] - 0s 5ms/step - loss: nan\n",
      "Epoch 48/500\n",
      "63/63 [==============================] - 0s 4ms/step - loss: nan\n",
      "Epoch 49/500\n",
      "63/63 [==============================] - 0s 3ms/step - loss: nan\n",
      "Epoch 50/500\n",
      "63/63 [==============================] - 0s 4ms/step - loss: nan\n",
      "Epoch 51/500\n",
      "63/63 [==============================] - 0s 4ms/step - loss: nan\n",
      "Epoch 52/500\n",
      "63/63 [==============================] - 0s 4ms/step - loss: nan\n",
      "Epoch 53/500\n",
      "63/63 [==============================] - 0s 3ms/step - loss: nan\n",
      "Epoch 54/500\n",
      "63/63 [==============================] - 0s 3ms/step - loss: nan\n",
      "Epoch 55/500\n",
      "63/63 [==============================] - 0s 3ms/step - loss: nan\n",
      "Epoch 56/500\n",
      " 1/63 [..............................] - ETA: 0s - loss: nan"
     ]
    }
   ],
   "source": [
    "history = model.fit(x=xs, \n",
    "                    y=ys, \n",
    "                    epochs=500, \n",
    "                    callbacks=[tensorboard_callback])"
   ]
  },
  {
   "cell_type": "code",
   "execution_count": null,
   "metadata": {},
   "outputs": [
    {
     "data": {
      "text/plain": [
       "Reusing TensorBoard on port 6006 (pid 28632), started 12:12:26 ago. (Use '!kill 28632' to kill it.)"
      ]
     },
     "metadata": {},
     "output_type": "display_data"
    },
    {
     "data": {
      "text/html": [
       "\n",
       "      <iframe id=\"tensorboard-frame-c300a3d2a23d9046\" width=\"100%\" height=\"800\" frameborder=\"0\">\n",
       "      </iframe>\n",
       "      <script>\n",
       "        (function() {\n",
       "          const frame = document.getElementById(\"tensorboard-frame-c300a3d2a23d9046\");\n",
       "          const url = new URL(\"http://localhost\");\n",
       "          const port = 6006;\n",
       "          if (port) {\n",
       "            url.port = port;\n",
       "          }\n",
       "          frame.src = url;\n",
       "        })();\n",
       "      </script>\n",
       "    "
      ],
      "text/plain": [
       "<IPython.core.display.HTML object>"
      ]
     },
     "metadata": {},
     "output_type": "display_data"
    }
   ],
   "source": [
    "%tensorboard --logdir tensorboard_events_path"
   ]
  },
  {
   "cell_type": "code",
   "execution_count": null,
   "metadata": {},
   "outputs": [
    {
     "name": "stdout",
     "output_type": "stream",
     "text": [
      "1/1 [==============================] - 0s 113ms/step\n",
      "[[nan]]\n"
     ]
    }
   ],
   "source": [
    "print(model.predict([10.0]))"
   ]
  },
  {
   "cell_type": "code",
   "execution_count": null,
   "metadata": {},
   "outputs": [
    {
     "data": {
      "image/png": "[encoded data removed]",
      "text/plain": [
       "<Figure size 640x480 with 1 Axes>"
      ]
     },
     "metadata": {},
     "output_type": "display_data"
    }
   ],
   "source": [
    "# Plot training & validation loss values\n",
    "plt.plot(history.history['loss'])\n",
    "plt.title('Model loss')\n",
    "plt.ylabel('Loss')\n",
    "plt.xlabel('Epoch')\n",
    "plt.legend(['Train', 'Test'], loc='upper right')\n",
    "plt.show()"
   ]
  }
 ],
 "metadata": {
  "kernelspec": {
   "display_name": "Python 3",
   "language": "python",
   "name": "python3"
  },
  "language_info": {
   "codemirror_mode": {
    "name": "ipython",
    "version": 3
   },
   "file_extension": ".py",
   "mimetype": "text/x-python",
   "name": "python",
   "nbconvert_exporter": "python",
   "pygments_lexer": "ipython3",
   "version": "3.10.13"
  }
 },
 "nbformat": 4,
 "nbformat_minor": 2
}
