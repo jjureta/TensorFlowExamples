{
 "cells": [
  {
   "cell_type": "markdown",
   "metadata": {},
   "source": [
    "Based on: \n",
    "\n",
    "https://www.tensorflow.org/get_started/mnist/beginners \n",
    "\n",
    "https://www.oreilly.com/learning/not-another-mnist-tutorial-with-tensorflow"
   ]
  },
  {
   "cell_type": "code",
   "execution_count": null,
   "metadata": {},
   "outputs": [],
   "source": [
    "import tensorflow as tf\n",
    "from tensorflow import keras\n",
    "import numpy as np\n",
    "import tempfile\n",
    "import shutil\n",
    "\n",
    "# print the tensor flow version\n",
    "print(tf.__version__)"
   ]
  },
  {
   "cell_type": "code",
   "execution_count": null,
   "metadata": {},
   "outputs": [],
   "source": [
    "from utils import display_errors\n",
    "from utils import unfold_labels\n",
    "from dataset_helper import DataSetHelper"
   ]
  },
  {
   "cell_type": "code",
   "execution_count": null,
   "metadata": {},
   "outputs": [],
   "source": [
    "num_classes = 10\n",
    "learning_rate = 0.2\n",
    "batch_size = 100"
   ]
  },
  {
   "cell_type": "code",
   "execution_count": null,
   "metadata": {},
   "outputs": [],
   "source": [
    "# setup tensorboard\n",
    "tensorboard_file_name = \"./TensorFlowBoard/tensor_flow_basic\"\n",
    "shutil.rmtree(tensorboard_file_name, ignore_errors = True) # start fresh each time\n",
    "writer = tf.summary.FileWriter(tensorboard_file_name)"
   ]
  },
  {
   "cell_type": "code",
   "execution_count": null,
   "metadata": {},
   "outputs": [],
   "source": [
    "#load mnist data\n",
    "(x_train, y_train), (x_test, y_test) = tf.keras.datasets.mnist.load_data()\n",
    "\n",
    "training_data_set = DataSetHelper(x_train, y_train, one_hot = True, num_classes = num_classes)\n",
    "test_data_set = DataSetHelper(x_test, y_test, one_hot = True, num_classes = num_classes)"
   ]
  },
  {
   "cell_type": "code",
   "execution_count": null,
   "metadata": {},
   "outputs": [],
   "source": [
    "training_set_size = x_train.shape[0]\n",
    "epochs = training_set_size * 3"
   ]
  },
  {
   "cell_type": "code",
   "execution_count": null,
   "metadata": {},
   "outputs": [],
   "source": [
    "# define the graph\n",
    "# z = W*x + b\n",
    "# y = softmax(z)\n",
    "x = tf.placeholder(tf.float32, [None, 784], name = \"x\")\n",
    "W = tf.Variable(tf.random.uniform([784, 10]), name = \"W\")\n",
    "b = tf.Variable(tf.random.uniform([10]), name = \"b\")\n",
    "z = tf.add(tf.matmul(x, W), b, name = \"z\")\n",
    "y = tf.nn.softmax(z, name = \"y\")\n",
    "y_ = tf.placeholder(tf.float32, [None, 10], name = \"y_\")"
   ]
  },
  {
   "cell_type": "code",
   "execution_count": null,
   "metadata": {},
   "outputs": [],
   "source": [
    "cross_entropy = tf.reduce_mean(\n",
    "    tf.nn.softmax_cross_entropy_with_logits_v2(labels=y_, logits=y))\n",
    "\n",
    "train_step = tf.train.GradientDescentOptimizer(learning_rate).minimize(cross_entropy)\n",
    "\n",
    "# calculate the accuracy on the training set\n",
    "correct_prediction = tf.equal(tf.argmax(y,1), tf.argmax(y_,1), name = \"correct_prediction\")\n",
    "accuracy = tf.reduce_mean(tf.cast(correct_prediction, tf.float32), name = \"accuracy\")\n",
    "\n",
    "prediction = tf.argmax(y,1)"
   ]
  },
  {
   "cell_type": "code",
   "execution_count": null,
   "metadata": {
    "scrolled": false
   },
   "outputs": [],
   "source": [
    "with tf.Session() as sess:\n",
    "    # write the graph to the tensorboard log\n",
    "    writer.add_graph(sess.graph)\n",
    "    \n",
    "    tf.global_variables_initializer().run()\n",
    "\n",
    "    for index in range(epochs):\n",
    "        batch_xs, batch_ys = training_data_set.next_batch(batch_size)\n",
    "        \n",
    "        if index % (epochs/10) == 0:\n",
    "            train_accuracy = accuracy.eval(feed_dict={x: batch_xs, y_: batch_ys})\n",
    "            print(\"Batch:\", index, \"; Accuracy: \", train_accuracy)\n",
    "        \n",
    "        sess.run(train_step, feed_dict={x: batch_xs, y_: batch_ys})\n",
    "    \n",
    "    pred = prediction.eval(feed_dict={x: test_data_set.images}, session=sess)\n",
    "    print(\"Accuracy: \", sess.run(accuracy, feed_dict={x: test_data_set.images, y_: test_data_set.labels}))"
   ]
  },
  {
   "cell_type": "code",
   "execution_count": null,
   "metadata": {},
   "outputs": [],
   "source": [
    "labels = test_data_set.labels.argmax(axis=1)\n",
    "conf = tf.confusion_matrix(labels, pred, 10)\n",
    "with tf.Session() as sess:\n",
    "    print(conf.eval(session=sess))"
   ]
  },
  {
   "cell_type": "code",
   "execution_count": null,
   "metadata": {},
   "outputs": [],
   "source": [
    "display_errors(x_test, test_data_set.labels, pred, grid = 8)"
   ]
  }
 ],
 "metadata": {
  "kernelspec": {
   "display_name": "Python 3",
   "language": "python",
   "name": "python3"
  },
  "language_info": {
   "codemirror_mode": {
    "name": "ipython",
    "version": 3
   },
   "file_extension": ".py",
   "mimetype": "text/x-python",
   "name": "python",
   "nbconvert_exporter": "python",
   "pygments_lexer": "ipython3",
   "version": "3.6.6"
  }
 },
 "nbformat": 4,
 "nbformat_minor": 2
}
