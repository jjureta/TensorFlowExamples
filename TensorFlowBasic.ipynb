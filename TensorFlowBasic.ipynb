{
 "cells": [
  {
   "cell_type": "code",
   "execution_count": null,
   "metadata": {},
   "outputs": [],
   "source": [
    "import os\n",
    "import tensorflow as tf\n",
    "import numpy as np\n",
    "import tempfile\n",
    "\n",
    "# print the tensor flow version\n",
    "print(tf.__version__)"
   ]
  },
  {
   "cell_type": "code",
   "execution_count": null,
   "metadata": {},
   "outputs": [],
   "source": [
    "from utils import display_digit\n",
    "from utils import unfold_labels"
   ]
  },
  {
   "cell_type": "code",
   "execution_count": null,
   "metadata": {},
   "outputs": [],
   "source": [
    "# setup tensorboard\n",
    "tensorboard_file_name = tempfile.gettempdir() + \"/TensorFlow/19\"\n",
    "writer = tf.summary.FileWriter(tensorboard_file_name)"
   ]
  },
  {
   "cell_type": "code",
   "execution_count": null,
   "metadata": {},
   "outputs": [],
   "source": [
    "# load data\n",
    "from tensorflow.examples.tutorials.mnist import input_data\n",
    "mnist = input_data.read_data_sets(\"MNIST_data/\", one_hot=True)"
   ]
  },
  {
   "cell_type": "code",
   "execution_count": null,
   "metadata": {},
   "outputs": [],
   "source": [
    "batch_size = 100\n",
    "training_set_size = mnist.train.labels.shape[0]\n",
    "\n",
    "# define the graph\n",
    "x = tf.placeholder(tf.float32, [None, 784], name = \"X\")\n",
    "W = tf.Variable(tf.zeros([784, 10]), name = \"W\")\n",
    "b = tf.Variable(tf.zeros([10]), name = \"b\")\n",
    "z = tf.add(tf.matmul(x, W), b, name = \"z\")\n",
    "y = tf.nn.softmax(z, name = \"y\")\n",
    "y_ = tf.placeholder(tf.float32, [None, 10], name = \"y_\")"
   ]
  },
  {
   "cell_type": "code",
   "execution_count": null,
   "metadata": {},
   "outputs": [],
   "source": [
    "cross_entropy = tf.reduce_mean(-tf.reduce_sum(y_ * tf.log(y), reduction_indices=[1]), name = \"cross_entropy\")\n",
    "train_step = tf.train.GradientDescentOptimizer(0.5).minimize(cross_entropy)"
   ]
  },
  {
   "cell_type": "code",
   "execution_count": null,
   "metadata": {},
   "outputs": [],
   "source": [
    "with tf.Session() as sess:\n",
    "    # write the graph to the tensorboard log\n",
    "    writer.add_graph(sess.graph)\n",
    "    \n",
    "    tf.global_variables_initializer().run()\n",
    "\n",
    "    for _ in range(training_set_size):\n",
    "      batch_xs, batch_ys = mnist.train.next_batch(batch_size)\n",
    "      sess.run(train_step, feed_dict={x: batch_xs, y_: batch_ys})\n",
    "    \n",
    "    # calculate the accuracy on the training set\n",
    "    correct_prediction = tf.equal(tf.argmax(y,1), tf.argmax(y_,1), name = \"correct_prediction\")\n",
    "    accuracy = tf.reduce_mean(tf.cast(correct_prediction, tf.float32), name = \"accuracy\")   \n",
    "    print(sess.run(accuracy, feed_dict={x: mnist.test.images, y_: mnist.test.labels}))\n",
    "    \n",
    "    prediction = tf.argmax(y,1)\n",
    "    pred = prediction.eval(feed_dict={x: mnist.test.images}, session=sess)\n"
   ]
  },
  {
   "cell_type": "code",
   "execution_count": null,
   "metadata": {},
   "outputs": [],
   "source": [
    "labels = unfold_labels(mnist.test.labels)\n",
    "errors = np.where(pred != labels)[0]\n",
    "\n",
    "random_error_indx = errors[np.random.randint(errors.size, size=1)[0]]\n",
    "display_digit(mnist.test, random_error_indx, pred[random_error_indx])"
   ]
  },
  {
   "cell_type": "code",
   "execution_count": null,
   "metadata": {},
   "outputs": [],
   "source": [
    "tensorboard_file_name"
   ]
  }
 ],
 "metadata": {
  "kernelspec": {
   "display_name": "Python 3",
   "language": "python",
   "name": "python3"
  },
  "language_info": {
   "codemirror_mode": {
    "name": "ipython",
    "version": 3
   },
   "file_extension": ".py",
   "mimetype": "text/x-python",
   "name": "python",
   "nbconvert_exporter": "python",
   "pygments_lexer": "ipython3",
   "version": "3.6.4"
  }
 },
 "nbformat": 4,
 "nbformat_minor": 2
}
