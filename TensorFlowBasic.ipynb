{
 "cells": [
  {
   "cell_type": "code",
   "execution_count": null,
   "metadata": {},
   "outputs": [],
   "source": [
    "import os\n",
    "import tensorflow as tf\n",
    "from tensorflow import keras\n",
    "import numpy as np\n",
    "import tempfile\n",
    "import shutil\n",
    "\n",
    "# print the tensor flow version\n",
    "print(tf.__version__)"
   ]
  },
  {
   "cell_type": "code",
   "execution_count": null,
   "metadata": {},
   "outputs": [],
   "source": [
    "from utils import display_digit\n",
    "from utils import display_digit_v1\n",
    "from utils import display_digit_v2\n",
    "from utils import unfold_labels\n",
    "\n",
    "num_classes = 10\n",
    "batch_size = 100"
   ]
  },
  {
   "cell_type": "code",
   "execution_count": null,
   "metadata": {},
   "outputs": [],
   "source": [
    "# setup tensorboard\n",
    "tensorboard_file_name = tempfile.gettempdir() + \"/TensorFlow/tensor_flow_basic\"\n",
    "shutil.rmtree(tensorboard_file_name, ignore_errors = True) # start fresh each time\n",
    "writer = tf.summary.FileWriter(tensorboard_file_name)"
   ]
  },
  {
   "cell_type": "code",
   "execution_count": null,
   "metadata": {},
   "outputs": [],
   "source": [
    "# load data\n",
    "#from tensorflow.examples.tutorials.mnist import input_data\n",
    "#mnist = input_data.read_data_sets(\"MNIST_data/\", one_hot=True)\n",
    "#mnist = tf.keras.datasets.mnist\n",
    "#(x_train, y_train), (x_test, y_test) = mnist.load_data()\n",
    "#x_train = x_train.astype(np.float32) / 255\n",
    "#x_train = np.expand_dims(x_train, -1)\n",
    "#x_train = x_train.astype(np.float32)\n",
    "#x_train = x_train.reshape([-1, 784])\n",
    "#y_train = tf.one_hot(y_train, num_classes)\n",
    "\n",
    "#mnist = tf.data.Dataset.from_tensor_slices((x_train, y_train))\n",
    "#iter = mnist.batch(batch_size).make_one_shot_iterator()\n",
    "\n",
    "# Code from https://stackoverflow.com/questions/50666681/how-to-load-mnist-via-tensorflow-including-download\n",
    "#load mnist data\n",
    "(x_train, y_train), (x_test, y_test) = tf.keras.datasets.mnist.load_data()\n",
    "\n",
    "def create_mnist_dataset(data, labels, batch_size):\n",
    "  def gen():\n",
    "    for image, label in zip(data, labels):\n",
    "        yield image, label\n",
    "  ds = tf.data.Dataset.from_generator(gen, (tf.float32, tf.int32), ((28,28 ), ()))\n",
    "\n",
    "  return ds.repeat().batch(batch_size)\n",
    "\n",
    "#train and validation dataset with different batch size\n",
    "training_dataset = create_mnist_dataset(x_train, y_train, 10)\n",
    "validation_dataset = create_mnist_dataset(x_test, y_test, 20)\n",
    "\n",
    "#y_train = tf.one_hot(y_train, num_classes)\n",
    "\n",
    "handle = tf.placeholder(tf.string, shape=[])\n",
    "iterator = tf.data.Iterator.from_string_handle(handle, \n",
    "                                               training_dataset.output_types, \n",
    "                                               validation_dataset.output_shapes)\n",
    "image, label = iterator.get_next()\n",
    "\n",
    "train_iterator = training_dataset.make_one_shot_iterator()\n",
    "valid_iterator = validation_dataset.make_one_shot_iterator()"
   ]
  },
  {
   "cell_type": "code",
   "execution_count": null,
   "metadata": {},
   "outputs": [],
   "source": [
    "training_set_size = y_train.shape[0]\n",
    "\n",
    "# define the graph\n",
    "# z = W*x + b\n",
    "# y = softmax(z)\n",
    "#x = tf.placeholder(tf.float32, [None, 784], name = \"X\")\n",
    "#W = tf.Variable(tf.zeros([784, 10]), name = \"W\")\n",
    "#b = tf.Variable(tf.zeros([10]), name = \"b\")\n",
    "#z = tf.add(tf.matmul(x, W), b, name = \"z\")\n",
    "#y = tf.nn.softmax(z, name = \"y\")\n",
    "#y_ = tf.placeholder(tf.float32, [None, 10], name = \"y_\")\n",
    "#y_ = y_train"
   ]
  },
  {
   "cell_type": "code",
   "execution_count": null,
   "metadata": {},
   "outputs": [],
   "source": [
    "#cross_entropy = tf.reduce_mean(-tf.reduce_sum(y_ * tf.log(y), reduction_indices=[1]), name = \"cross_entropy\")\n",
    "#train_step = tf.train.GradientDescentOptimizer(0.5).minimize(cross_entropy)"
   ]
  },
  {
   "cell_type": "code",
   "execution_count": null,
   "metadata": {},
   "outputs": [],
   "source": [
    "#batch_xs, batch_ys = iter.get_next()\n",
    "print(y_train.shape)"
   ]
  },
  {
   "cell_type": "code",
   "execution_count": null,
   "metadata": {},
   "outputs": [],
   "source": [
    "handle = tf.placeholder(tf.string, shape=[])\n",
    "iterator = tf.data.Iterator.from_string_handle(handle, \n",
    "                                               training_dataset.output_types, \n",
    "                                               training_dataset.output_shapes)\n",
    "image, label = iterator.get_next()\n",
    "\n",
    "train_iterator = training_dataset.make_one_shot_iterator()\n",
    "valid_iterator = validation_dataset.make_one_shot_iterator()\n",
    "\n",
    "y = tf.layers.dense(tf.layers.flatten(image),1,activation=tf.nn.relu)\n",
    "loss = tf.losses.mean_squared_error(tf.squeeze(y), label)\n",
    "\n",
    "with tf.Session() as sess:\n",
    "    # write the graph to the tensorboard log\n",
    "    writer.add_graph(sess.graph)\n",
    "    \n",
    "    tf.global_variables_initializer().run()\n",
    "\n",
    "    # The `Iterator.string_handle()` method returns a tensor that can be evaluated\n",
    "    # and used to feed the `handle` placeholder.\n",
    "    train_handle = sess.run(train_iterator.string_handle())\n",
    "    valid_handle = sess.run(valid_iterator.string_handle())\n",
    "\n",
    "    # Run training\n",
    "    train_loss, train_img, train_label = sess.run([loss, image, label],\n",
    "                                                 feed_dict={handle: train_handle})\n",
    "    # train_image.shape = (10, 784) \n",
    "\n",
    "    # Run validation\n",
    "    valid_pred, valid_img = sess.run([y, image], \n",
    "                                    feed_dict={handle: valid_handle})\n"
   ]
  },
  {
   "cell_type": "code",
   "execution_count": null,
   "metadata": {},
   "outputs": [],
   "source": [
    "#print(accuracy.eval(session=tf.Session()))"
   ]
  },
  {
   "cell_type": "code",
   "execution_count": null,
   "metadata": {},
   "outputs": [],
   "source": [
    "#labels = unfold_labels(mnist.test.labels)\n",
    "#errors = np.where(pred != labels)[0]\n",
    "\n",
    "#random_error_indx = errors[np.random.randint(errors.size, size=1)[0]]\n",
    "#display_digit(mnist.test, random_error_indx, pred[random_error_indx])"
   ]
  },
  {
   "cell_type": "code",
   "execution_count": null,
   "metadata": {},
   "outputs": [],
   "source": [
    "iterator = training_dataset.make_one_shot_iterator()\n",
    "next_element = iterator.get_next()\n",
    "\n",
    "with tf.Session() as sess:\n",
    "    image = sess.run(next_element)\n",
    "    display_digit_v1(image, 5, 6)\n",
    "    display_digit_v2(x_train, y_train, 6)"
   ]
  },
  {
   "cell_type": "code",
   "execution_count": null,
   "metadata": {},
   "outputs": [],
   "source": [
    "tensorboard_file_name"
   ]
  },
  {
   "cell_type": "code",
   "execution_count": null,
   "metadata": {},
   "outputs": [],
   "source": []
  }
 ],
 "metadata": {
  "kernelspec": {
   "display_name": "Python 3",
   "language": "python",
   "name": "python3"
  },
  "language_info": {
   "codemirror_mode": {
    "name": "ipython",
    "version": 3
   },
   "file_extension": ".py",
   "mimetype": "text/x-python",
   "name": "python",
   "nbconvert_exporter": "python",
   "pygments_lexer": "ipython3",
   "version": "3.6.6"
  }
 },
 "nbformat": 4,
 "nbformat_minor": 2
}
