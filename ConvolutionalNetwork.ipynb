{
 "cells": [
  {
   "cell_type": "code",
   "execution_count": null,
   "metadata": {},
   "outputs": [],
   "source": [
    "import tensorflow as tf\n",
    "from tensorflow import keras\n",
    "from tensorflow.keras import optimizers\n",
    "import numpy as np\n",
    "import tempfile\n",
    "import shutil\n",
    "import matplotlib.pyplot as plt\n",
    "\n",
    "# print the tensor flow version\n",
    "print(tf.__version__)"
   ]
  },
  {
   "cell_type": "code",
   "execution_count": null,
   "metadata": {},
   "outputs": [],
   "source": [
    "from utils import display_errors\n",
    "from utils import unfold_labels\n",
    "from dataset_helper import DataSetHelper"
   ]
  },
  {
   "cell_type": "code",
   "execution_count": null,
   "metadata": {},
   "outputs": [],
   "source": [
    "num_classes = 10\n",
    "learning_rate = 0.001\n",
    "batch_size = 100\n",
    "epochs = 15"
   ]
  },
  {
   "cell_type": "code",
   "execution_count": null,
   "metadata": {},
   "outputs": [],
   "source": [
    "# setup tensorboard\n",
    "tensorboard_file_name = \"./TensorFlowBoard/tensor_flow_ccn\"\n",
    "shutil.rmtree(tensorboard_file_name, ignore_errors = True) # start fresh each time\n",
    "writer = tf.summary.FileWriter(tensorboard_file_name)"
   ]
  },
  {
   "cell_type": "code",
   "execution_count": null,
   "metadata": {},
   "outputs": [],
   "source": [
    "#load mnist data\n",
    "(x_train, y_train), (x_test, y_test) = tf.keras.datasets.mnist.load_data()\n",
    "\n",
    "# scale data\n",
    "x_train, x_test = x_train / 255.0, x_test / 255.0\n",
    "\n",
    "img_rows, img_cols = 28, 28\n",
    "x_train = x_train.reshape(x_train.shape[0], img_rows, img_cols, 1)\n",
    "x_test = x_test.reshape(x_test.shape[0], img_rows, img_cols, 1)\n",
    "input_shape = (img_rows, img_cols, 1)"
   ]
  },
  {
   "cell_type": "code",
   "execution_count": null,
   "metadata": {},
   "outputs": [],
   "source": [
    "# define the graph\n",
    "model = tf.keras.models.Sequential([\n",
    "  tf.keras.layers.Conv2D(32, kernel_size=(8, 6), activation='relu', input_shape=(28, 28, 1)),\n",
    "  tf.keras.layers.Conv2D(64, (8, 6), activation='relu'),\n",
    "  tf.keras.layers.MaxPooling2D(pool_size=(2, 2)),\n",
    "  tf.keras.layers.Dropout(0.2),\n",
    "  tf.keras.layers.Flatten(),\n",
    "  tf.keras.layers.Dense(128, activation=tf.nn.relu),\n",
    "  tf.keras.layers.Dropout(0.2),\n",
    "  tf.keras.layers.Dense(num_classes, activation=tf.nn.softmax)\n",
    "])\n",
    "\n",
    "optimizer = optimizers.Adam(lr = learning_rate)\n",
    "model.compile(optimizer = optimizer,\n",
    "              loss = 'sparse_categorical_crossentropy',\n",
    "              metrics=['accuracy'])"
   ]
  },
  {
   "cell_type": "code",
   "execution_count": null,
   "metadata": {},
   "outputs": [],
   "source": [
    "history = model.fit(x_train, y_train, epochs = epochs)\n",
    "evaluation = model.evaluate(x_test, y_test)\n",
    "print(evaluation)\n",
    "pred = model.predict(x_test, verbose=1)"
   ]
  },
  {
   "cell_type": "code",
   "execution_count": null,
   "metadata": {},
   "outputs": [],
   "source": [
    "loss_batch = history.history['loss']\n",
    "accuracy_batch = history.history['acc']\n",
    "\n",
    "plt.plot(range(0, len(loss_batch)), loss_batch, 'r-', label='Batch Loss')\n",
    "plt.plot(range(0, len(accuracy_batch)), accuracy_batch, 'b-', label='Batch Accuracy')\n",
    "plt.legend(loc='upper right')\n",
    "plt.title('Training accuracy and loss')\n",
    "plt.show()"
   ]
  },
  {
   "cell_type": "code",
   "execution_count": null,
   "metadata": {},
   "outputs": [],
   "source": [
    "conf = tf.confusion_matrix(y_test, pred.argmax(axis=1), 10)\n",
    "with tf.Session() as sess:\n",
    "    print(conf.eval(session=sess))"
   ]
  },
  {
   "cell_type": "code",
   "execution_count": null,
   "metadata": {},
   "outputs": [],
   "source": [
    "print(x_test.shape)\n",
    "display_errors(x_test.reshape((10000, 28, 28)), y_test, pred.argmax(axis=1), grid = 8)"
   ]
  },
  {
   "cell_type": "code",
   "execution_count": null,
   "metadata": {},
   "outputs": [],
   "source": [
    "pred_basic = np.load(\"./pred_basic.npy\")"
   ]
  },
  {
   "cell_type": "code",
   "execution_count": null,
   "metadata": {},
   "outputs": [],
   "source": [
    "x = np.var(pred_basic, axis=1) > 0.0899\n",
    "y = np.var(pred, axis = 1) < 0.0888\n",
    "z = np.multiply(x, y)\n",
    "\n",
    "x = np.var(pred_basic, axis=1)\n",
    "y = np.var(pred, axis = 1)\n",
    "z = (x - 0.04) > y\n",
    "\n",
    "pred_cnn = np.copy(pred)\n",
    "\n",
    "pred_cnn[z] = pred_basic[z]\n",
    "\n",
    "conf = tf.confusion_matrix(y_test, pred_cnn.argmax(axis=1), 10)\n",
    "with tf.Session() as sess:\n",
    "    conf_cnn = conf.eval(session=sess)\n",
    "    \n",
    "print(conf_cnn)\n",
    "\n",
    "print(np.sum(np.diagonal(conf_cnn))/np.sum(conf_cnn))\n",
    "\n",
    "display_errors(x_test.reshape((10000, 28, 28)), y_test, pred_cnn.argmax(axis=1), grid = 8)"
   ]
  },
  {
   "cell_type": "code",
   "execution_count": null,
   "metadata": {},
   "outputs": [],
   "source": [
    "print(np.var(pred[8527]))\n",
    "print(pred[8527])\n",
    "print(np.var(pred_basic[8527]))\n",
    "print(pred_basic[8527])"
   ]
  },
  {
   "cell_type": "code",
   "execution_count": null,
   "metadata": {},
   "outputs": [],
   "source": [
    "np.sum(pred_cnn == pred)"
   ]
  },
  {
   "cell_type": "code",
   "execution_count": null,
   "metadata": {},
   "outputs": [],
   "source": []
  }
 ],
 "metadata": {
  "kernelspec": {
   "display_name": "Python 3",
   "language": "python",
   "name": "python3"
  },
  "language_info": {
   "codemirror_mode": {
    "name": "ipython",
    "version": 3
   },
   "file_extension": ".py",
   "mimetype": "text/x-python",
   "name": "python",
   "nbconvert_exporter": "python",
   "pygments_lexer": "ipython3",
   "version": "3.6.9"
  }
 },
 "nbformat": 4,
 "nbformat_minor": 2
}
