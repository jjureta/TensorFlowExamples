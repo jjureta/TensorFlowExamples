{
 "cells": [
  {
   "cell_type": "code",
   "execution_count": null,
   "metadata": {},
   "outputs": [],
   "source": [
    "import tensorflow as tf\n",
    "from tensorflow import keras\n",
    "import numpy as np\n",
    "import tempfile\n",
    "import shutil\n",
    "import matplotlib.pyplot as plt\n",
    "\n",
    "# print the tensor flow version\n",
    "print(tf.__version__)"
   ]
  },
  {
   "cell_type": "code",
   "execution_count": null,
   "metadata": {},
   "outputs": [],
   "source": [
    "from utils import display_errors\n",
    "from utils import unfold_labels\n",
    "from dataset_helper import DataSetHelper"
   ]
  },
  {
   "cell_type": "code",
   "execution_count": null,
   "metadata": {},
   "outputs": [],
   "source": [
    "num_classes = 10\n",
    "learning_rate = 0.01\n",
    "batch_size = 100"
   ]
  },
  {
   "cell_type": "code",
   "execution_count": null,
   "metadata": {},
   "outputs": [],
   "source": [
    "# setup tensorboard\n",
    "tensorboard_file_name = \"./TensorFlowBoard/tensor_flow_ccn\"\n",
    "shutil.rmtree(tensorboard_file_name, ignore_errors = True) # start fresh each time\n",
    "writer = tf.summary.FileWriter(tensorboard_file_name)"
   ]
  },
  {
   "cell_type": "code",
   "execution_count": null,
   "metadata": {},
   "outputs": [],
   "source": [
    "#load mnist data\n",
    "(x_train, y_train), (x_test, y_test) = tf.keras.datasets.mnist.load_data()\n",
    "\n",
    "training_data_set = DataSetHelper(x_train, y_train, one_hot = True, num_classes = num_classes, rescale = True)\n",
    "test_data_set = DataSetHelper(x_test, y_test, one_hot = True, num_classes = num_classes, rescale = True)"
   ]
  },
  {
   "cell_type": "code",
   "execution_count": null,
   "metadata": {},
   "outputs": [],
   "source": [
    "training_set_size = x_train.shape[0]\n",
    "epochs = training_set_size * 3"
   ]
  },
  {
   "cell_type": "code",
   "execution_count": null,
   "metadata": {},
   "outputs": [],
   "source": [
    "def weight_variable(shape):\n",
    "  initial = tf.truncated_normal(shape, stddev=0.1)\n",
    "  return tf.Variable(initial)\n",
    "\n",
    "def bias_variable(shape):\n",
    "  initial = tf.constant(0.1, shape=shape)\n",
    "  return tf.Variable(initial)"
   ]
  },
  {
   "cell_type": "code",
   "execution_count": null,
   "metadata": {},
   "outputs": [],
   "source": [
    "def conv2d(x, W):\n",
    "  return tf.nn.conv2d(x, W, strides=[1, 1, 1, 1], padding='SAME')\n",
    "\n",
    "def max_pool_2x2(x):\n",
    "  return tf.nn.max_pool(x, ksize=[1, 2, 2, 1],\n",
    "                        strides=[1, 2, 2, 1], padding='SAME')"
   ]
  },
  {
   "cell_type": "code",
   "execution_count": null,
   "metadata": {},
   "outputs": [],
   "source": [
    "x = tf.placeholder(tf.float32, shape=[None, 784], name = \"x\")\n",
    "\n",
    "x_image = tf.reshape(x, [-1, 28, 28, 1])\n",
    "\n",
    "W_conv1 = weight_variable([5, 5, 1, 32])\n",
    "b_conv1 = bias_variable([32])\n",
    "h_conv1 = tf.nn.relu(conv2d(x_image, W_conv1) + b_conv1)\n",
    "h_pool1 = max_pool_2x2(h_conv1)\n",
    "\n",
    "W_conv2 = weight_variable([5, 5, 32, 64])\n",
    "b_conv2 = bias_variable([64])\n",
    "\n",
    "h_conv2 = tf.nn.relu(conv2d(h_pool1, W_conv2) + b_conv2)\n",
    "h_pool2 = max_pool_2x2(h_conv2)\n",
    "\n",
    "W_fc1 = weight_variable([7 * 7 * 64, 1024])\n",
    "b_fc1 = bias_variable([1024])\n",
    "\n",
    "h_pool2_flat = tf.reshape(h_pool2, [-1, 7*7*64])\n",
    "h_fc1 = tf.nn.relu(tf.matmul(h_pool2_flat, W_fc1) + b_fc1)\n",
    "\n",
    "keep_prob = tf.placeholder(tf.float32, name = \"keep_prob\")\n",
    "h_fc1_drop = tf.nn.dropout(h_fc1, keep_prob)\n",
    "\n",
    "W_fc2 = weight_variable([1024, 10])\n",
    "b_fc2 = bias_variable([10])\n",
    "\n",
    "z = tf.matmul(h_fc1_drop, W_fc2) + b_fc2\n",
    "\n",
    "#W = tf.Variable(tf.random.uniform([784, 10]), name = \"W\")\n",
    "#b = tf.Variable(tf.random.uniform([10]), name = \"b\")\n",
    "#z = tf.add(tf.matmul(x, W), b, name = \"z\")\n",
    "\n",
    "y = tf.nn.softmax(z, name = \"y\")\n",
    "y_ = tf.placeholder(tf.float32, [None, 10], name = \"y_\")"
   ]
  },
  {
   "cell_type": "code",
   "execution_count": null,
   "metadata": {},
   "outputs": [],
   "source": [
    "loss = tf.reduce_mean(\n",
    "    tf.nn.softmax_cross_entropy_with_logits_v2(labels=y_, logits=y))\n",
    "\n",
    "train_step = tf.train.GradientDescentOptimizer(learning_rate).minimize(loss)\n",
    "\n",
    "# calculate the accuracy on the training set\n",
    "correct_prediction = tf.equal(tf.argmax(y,1), tf.argmax(y_,1), name = \"correct_prediction\")\n",
    "accuracy = tf.reduce_mean(tf.cast(correct_prediction, tf.float32), name = \"accuracy\")\n",
    "\n",
    "prediction = tf.argmax(y,1)"
   ]
  },
  {
   "cell_type": "code",
   "execution_count": null,
   "metadata": {},
   "outputs": [],
   "source": [
    "loss_batch = []\n",
    "accuracy_batch = []"
   ]
  },
  {
   "cell_type": "code",
   "execution_count": null,
   "metadata": {},
   "outputs": [],
   "source": [
    "with tf.Session() as sess:\n",
    "    # write the graph to the tensorboard log\n",
    "    writer.add_graph(sess.graph)\n",
    "    \n",
    "    tf.global_variables_initializer().run()\n",
    "\n",
    "    for index in range(500):\n",
    "        batch_xs, batch_ys = training_data_set.next_batch(batch_size)\n",
    "        \n",
    "        if index % (epochs/100) == 0:\n",
    "            train_loss = loss.eval(feed_dict={x: batch_xs, y_: batch_ys, keep_prob: 1.0})\n",
    "            train_accuracy = accuracy.eval(feed_dict={x: batch_xs, y_: batch_ys, keep_prob: 1.0})\n",
    "            loss_batch.append(train_loss)\n",
    "            accuracy_batch.append(train_accuracy)\n",
    "        \n",
    "        if index % (epochs/10) == 0:\n",
    "            print(\"Batch:\", index, \"; Accuracy: \", train_accuracy, \"; Loss: \", train_loss)\n",
    "        \n",
    "        sess.run(train_step, feed_dict={x: batch_xs, y_: batch_ys, keep_prob: 1.0})\n",
    "    \n",
    "    pred = prediction.eval(feed_dict={x: test_data_set.images, keep_prob: 1.0}, session=sess)\n",
    "    print(\"Accuracy: \", sess.run(accuracy, feed_dict={x: test_data_set.images, y_: test_data_set.labels, keep_prob: 1.0}))"
   ]
  },
  {
   "cell_type": "code",
   "execution_count": null,
   "metadata": {},
   "outputs": [],
   "source": [
    "#with tf.Session() as sess:\n",
    "#    sess.run(tf.global_variables_initializer())\n",
    "#    for i in range(10):\n",
    "#        batch = mnist.train.next_batch(50)\n",
    "#        if i % 100 == 0:\n",
    "#          train_accuracy = accuracy.eval(feed_dict={\n",
    "#              x: batch[0], y_: batch[1], keep_prob: 1.0})\n",
    "#          print('step %d, training accuracy %g' % (i, train_accuracy))\n",
    "#        train_step.run(feed_dict={x: batch[0], y_: batch[1], keep_prob: 0.5})\n",
    "\n",
    "#    prediction = tf.argmax(y_conv,1)\n",
    "#    pred = prediction.eval(feed_dict={x: mnist.test.images}, session=sess)\n",
    "    \n",
    "#    print('test accuracy %g' % accuracy.eval(feed_dict={\n",
    "#          x: mnist.test.images, y_: mnist.test.labels, keep_prob: 1.0}))"
   ]
  },
  {
   "cell_type": "code",
   "execution_count": null,
   "metadata": {},
   "outputs": [],
   "source": [
    "plt.plot(range(0, len(loss_batch)), loss_batch, 'r-', label='Batch Loss')\n",
    "plt.plot(range(0, len(accuracy_batch)), accuracy_batch, 'b-', label='Batch Accuracy')\n",
    "plt.legend(loc='upper right')\n",
    "plt.title('Training accuracy and loss')\n",
    "plt.show()"
   ]
  },
  {
   "cell_type": "code",
   "execution_count": null,
   "metadata": {},
   "outputs": [],
   "source": [
    "labels = test_data_set.labels.argmax(axis=1)\n",
    "conf = tf.confusion_matrix(labels, pred, 10)\n",
    "with tf.Session() as sess:\n",
    "    print(conf.eval(session=sess))"
   ]
  },
  {
   "cell_type": "code",
   "execution_count": null,
   "metadata": {},
   "outputs": [],
   "source": [
    "display_errors(x_test, y_test, pred, grid = 8)"
   ]
  }
 ],
 "metadata": {
  "kernelspec": {
   "display_name": "Python 3",
   "language": "python",
   "name": "python3"
  },
  "language_info": {
   "codemirror_mode": {
    "name": "ipython",
    "version": 3
   },
   "file_extension": ".py",
   "mimetype": "text/x-python",
   "name": "python",
   "nbconvert_exporter": "python",
   "pygments_lexer": "ipython3",
   "version": "3.6.8"
  }
 },
 "nbformat": 4,
 "nbformat_minor": 2
}
